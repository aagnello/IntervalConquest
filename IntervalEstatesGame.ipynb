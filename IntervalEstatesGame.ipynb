{
 "cells": [
  {
   "cell_type": "markdown",
   "metadata": {},
   "source": [
    "# Interval conquest game:\n",
    "#(Adriano Agnello, DARK-NBI)"
   ]
  },
  {
   "cell_type": "code",
   "execution_count": null,
   "metadata": {},
   "outputs": [],
   "source": [
    "\"\"\"\n",
    "I have found one analytical solution for N players:\n",
    " A places its bet at 1/(2(N-1)),\n",
    " B places its bet at 1-A .\n",
    " and the others except the last one share equal slices of B-A .\n",
    " The reason is the following: a NECESSARY condition for any optimal solution is that the last player must have the lesat possible estate;\n",
    " any deviation from the analytical solution above creates an edge for the last player, which at least one of the previous players could have seized.\n",
    " The numerical solution below exploits the same necessary condition, and it converges quite quickly to the analytical solution!\n",
    " NB1: Here I'm using a VERY quick-and dirty stochastic optimizer, but a gradient descent would be much quicker;\n",
    " the problem is that the gradient has several discontinuities and stuff gets stuck there.\n",
    " NB2: YES, it could be done much better and also prettier, but I have stuff to do.\n",
    "\"\"\" "
   ]
  },
  {
   "cell_type": "code",
   "execution_count": null,
   "metadata": {},
   "outputs": [],
   "source": [
    "import numpy as np"
   ]
  },
  {
   "cell_type": "code",
   "execution_count": null,
   "metadata": {},
   "outputs": [],
   "source": [
    "# N= number of players, eps=some small number that we need in the estate calculation to make things sensible\n",
    "N=4;\n",
    "eps=0.001;"
   ]
  },
  {
   "cell_type": "code",
   "execution_count": null,
   "metadata": {},
   "outputs": [],
   "source": [
    "def payoff_last(others,safe=True):\n",
    "    \"\"\"\n",
    "    payoff_last computes the \"estate\" reached by the last player\n",
    "    once the positions of the other N-1 are given, for a reasonable choice of positions;\n",
    "    I use a default \"safe\" mode because I want to work with a sorted array of positions, and for \"magic numbers\" safety;\n",
    "    NB: the second extension in the array is only needed afterwards,\n",
    "    when computing the average payoffs of the other players as the last one chooses at random\n",
    "    (so that A can pick the best move and the other can each choose the best remaining strategy)\n",
    "    \"\"\"\n",
    "    if safe:\n",
    "        s=np.sort(others, axis=-1)\n",
    "        NN=len(others)\n",
    "    else:\n",
    "        s=others\n",
    "        NN=N-1\n",
    "    # this puts the last player immediately before or after each of the other players;\n",
    "    # NB about half of these steps are not needed for the payoff,\n",
    "    # but they come in handy when averaging the payoffs of the other N-1 players over the possible choices of the last one\n",
    "    tmp=np.zeros((2,2*NN));\n",
    "    ti=0;\n",
    "    while ti<NN-1:\n",
    "        tmp[0,2*ti]= (s[ti]-s[ti-1])*0.5 ; tmp[0,2*ti+1]= (s[ti+1]-s[ti])*0.5 ;\n",
    "        tmp[1,2*ti]= s[ti]-eps*(s[ti]-s[ti-1]) ; tmp[1,2*ti+1]= s[ti]+eps*(s[ti+1]-s[ti]) ;\n",
    "        ti+=1\n",
    "    tmp[0,0]=s[0]*(1.0-eps) ; tmp[0,2*(NN-1)+1]=(1.0-s[NN-1])*(1.0-eps);\n",
    "    tmp[0,2*(NN-1)]=(s[NN-1]-s[NN-2])*0.5;\n",
    "    tmp[1,0]=tmp[0,0] ; tmp[1,2*(NN-1)+1]=1.0-tmp[0,2*(NN-1)+1];\n",
    "    tmp[1,2*(NN-1)]=s[NN-1]-(s[NN-1]-s[NN-2])*eps;\n",
    "    return tmp\n",
    "#\n",
    "#\n",
    "#\n",
    "def adjust(others,safe=True):\n",
    "    \"\"\"\n",
    "    adjust simply makes sure that the explored positions are between 0 and 1\n",
    "    and reflects them accordingly, if needed; nothing fancy...\n",
    "    I use a default \"safe\" mode because I don't like too many magic numbers around\n",
    "    \"\"\"\n",
    "    if safe:\n",
    "        NN=len(others)\n",
    "    else:\n",
    "        NN=N-1\n",
    "    ir=0 ;\n",
    "    while ir<NN:\n",
    "        others[ir]=1.0-abs(1.0-others[ir])\n",
    "        others[ir]=abs(others[ir])\n",
    "        ir+=1\n",
    "    others=np.sort(others) ;\n",
    "    return others"
   ]
  },
  {
   "cell_type": "code",
   "execution_count": null,
   "metadata": {},
   "outputs": [],
   "source": [
    "# draw a first choice for the positions and see if things are as they should...\n",
    "# I print stuff in \"lazy mode\" here... \n",
    "firstpos=np.random.random(N-1);\n",
    "firstpos=np.sort(firstpos)\n",
    "print(firstpos);\n",
    "payoff_last(firstpos)"
   ]
  },
  {
   "cell_type": "code",
   "execution_count": null,
   "metadata": {},
   "outputs": [],
   "source": [
    "# now initialize a few thingies for the parameter exploration\n",
    "Nmc=100000;\n",
    "step=0.001/N;\n",
    "pos=np.zeros((Nmc,N-1)) ;\n",
    "loss=np.ones(Nmc) ;"
   ]
  },
  {
   "cell_type": "code",
   "execution_count": null,
   "metadata": {},
   "outputs": [],
   "source": [
    "# compute the needed stuff for the first attempt at putting down positions\n",
    "imc=0 ;\n",
    "pos[0]=firstpos;\n",
    "lastpays=payoff_last(pos[0]);\n",
    "loss[0]=np.max(lastpays[0]);"
   ]
  },
  {
   "cell_type": "code",
   "execution_count": null,
   "metadata": {
    "scrolled": true
   },
   "outputs": [],
   "source": [
    "# just checking to see if var's are as they should be, before turning the crank...\n",
    "print(imc,loss[0],pos[0])"
   ]
  },
  {
   "cell_type": "code",
   "execution_count": null,
   "metadata": {},
   "outputs": [],
   "source": [
    "\"\"\"\n",
    "Quick and Dirty stochastic optimizer: wonder around as long as the loss improves.\n",
    "The \"loss\" is the maximum estate that the last player can claim.\n",
    "\"\"\""
   ]
  },
  {
   "cell_type": "code",
   "execution_count": null,
   "metadata": {},
   "outputs": [],
   "source": [
    "# verbose, because I don't have patience and the thingy gets stuck quickly on an optimum\n",
    "vb=True;\n",
    "#\n",
    "# now, a quick-and-dirty stochastic optimizer on the estate of the last player; let's see if it converges!\n",
    "#\n",
    "#\n",
    "rejects=0;\n",
    "maxrejects=20000*N; # this is because I've run it a few times and it stick almost immediately onto an optimum\n",
    "# NB you'll need more patience with N>4 players,\n",
    "# once you get to the lowest payoff of the last player there are A LOT of rejected moves;\n",
    "#\n",
    "imc=1;\n",
    "while (imc<Nmc and rejects<maxrejects):\n",
    "    cont=True ;\n",
    "    rejects=0 ;\n",
    "    while cont :\n",
    "        postry=pos[imc-1]+ (-1.+2*np.random.random(N-1)) ;\n",
    "        postry=adjust(postry) ;\n",
    "        lastpays=payoff_last(postry) ;\n",
    "        losstry=np.max(lastpays[0]) ;\n",
    "        if (losstry<= loss[imc-1]): # accept if the \"Estate\" lost by the first N-1 players is smaller than before\n",
    "            pos[imc]=postry ;\n",
    "            loss[imc]=losstry ;\n",
    "            if vb:\n",
    "                print(imc,rejects,losstry, postry)\n",
    "            imc+=1;\n",
    "            cont=False ;\n",
    "        if cont: rejects+=1 ;"
   ]
  },
  {
   "cell_type": "code",
   "execution_count": null,
   "metadata": {},
   "outputs": [],
   "source": [
    "#for reference, this is where A and B should place their bets in my analytical solution:\n",
    "#...and A is also the max payoff of the last player\n",
    "1./(2*(N-1)) , 1.0-1./(2*(N-1))"
   ]
  },
  {
   "cell_type": "code",
   "execution_count": null,
   "metadata": {},
   "outputs": [],
   "source": [
    "pos[np.argmin(loss)]"
   ]
  },
  {
   "cell_type": "code",
   "execution_count": null,
   "metadata": {},
   "outputs": [],
   "source": [
    "# with four players, it's pretty neat!"
   ]
  },
  {
   "cell_type": "code",
   "execution_count": null,
   "metadata": {},
   "outputs": [],
   "source": []
  },
  {
   "cell_type": "code",
   "execution_count": null,
   "metadata": {},
   "outputs": [],
   "source": [
    "\"\"\"\n",
    "As an alternative: Quick and Dirty penalized Metropolis-Hastings;\n",
    "it does slightly better than the optimizer when N>4 , although it's still rather coarse.\n",
    "\"\"\""
   ]
  },
  {
   "cell_type": "code",
   "execution_count": null,
   "metadata": {},
   "outputs": [],
   "source": [
    "# verbose, because I don't have patience and the thingy gets stuck quickly on an optimum\n",
    "vb=False;\n",
    "#\n",
    "# let's see what happens with a penalised Metropolis-Hastings...\n",
    "#\n",
    "#\n",
    "rejects=0;\n",
    "maxrejects=20000*N; # this is because I've run it a few times and it stick almost immediately onto an optimum\n",
    "# NB you'll need more patience with N>4 players,\n",
    "# once you get to the lowest payoff of the last player there are A LOT of rejected moves;\n",
    "#\n",
    "imc=1;\n",
    "while (imc<Nmc and rejects<maxrejects):\n",
    "    cont=True ;\n",
    "    rejects=0 ;\n",
    "    while cont :\n",
    "        postry=pos[imc-1]+ (-1.+2*np.random.random(N-1)) ;\n",
    "        postry=adjust(postry) ;\n",
    "        lastpays=payoff_last(postry) ;\n",
    "        losstry=np.max(lastpays[0]) ;\n",
    "        if (losstry<= loss[imc-1]): # if the \"loss\" in estate improves, accept\n",
    "            pos[imc]=postry ;\n",
    "            loss[imc]=losstry ;\n",
    "            if vb:\n",
    "                print(imc,rejects,losstry, postry) ;\n",
    "            imc+=1;\n",
    "            cont=False ;\n",
    "        else: # accept with some small probability, given by the relative increase in estate loss\n",
    "            tq=np.random.random() ;\n",
    "            if (tq< np.exp(10*(loss[imc-1]-losstry)/loss[imc-1])):\n",
    "                pos[imc]=postry ;\n",
    "                loss[imc]=losstry ;\n",
    "                if vb:\n",
    "                    print(imc,rejects,losstry, postry) ;\n",
    "                imc+=1 ;\n",
    "                cont=False ;\n",
    "        if cont: rejects+=1 ;"
   ]
  },
  {
   "cell_type": "code",
   "execution_count": null,
   "metadata": {},
   "outputs": [],
   "source": []
  },
  {
   "cell_type": "code",
   "execution_count": null,
   "metadata": {},
   "outputs": [],
   "source": [
    "#for reference, this is where A and B should place their bets in my analytical solution:\n",
    "#...and A is also the max payoff of the last player\n",
    "1./(2*(N-1)) , 1.0-1./(2*(N-1))"
   ]
  },
  {
   "cell_type": "code",
   "execution_count": null,
   "metadata": {},
   "outputs": [],
   "source": [
    "pos[np.argmin(loss)]"
   ]
  },
  {
   "cell_type": "code",
   "execution_count": null,
   "metadata": {},
   "outputs": [],
   "source": [
    "# maximum payoff ever of last player\n",
    "(pos[np.argmin(loss)][1:]-pos[np.argmin(loss)][:-1])*0.5"
   ]
  },
  {
   "cell_type": "code",
   "execution_count": null,
   "metadata": {},
   "outputs": [],
   "source": [
    "indices=np.argsort(loss)"
   ]
  },
  {
   "cell_type": "code",
   "execution_count": null,
   "metadata": {},
   "outputs": [],
   "source": [
    "loss[indices[0:10]]"
   ]
  },
  {
   "cell_type": "code",
   "execution_count": null,
   "metadata": {},
   "outputs": [],
   "source": [
    "0.5*(pos[indices[0:10]][:,1]+pos[indices[0:10]][:,0])"
   ]
  },
  {
   "cell_type": "code",
   "execution_count": null,
   "metadata": {},
   "outputs": [],
   "source": [
    "pos[indices[0:10]][:,0]"
   ]
  },
  {
   "cell_type": "code",
   "execution_count": null,
   "metadata": {},
   "outputs": [],
   "source": [
    "\"\"\"\n",
    "with larger N (around 10), from the cells above you can _at_least_ clean up the chain of choices of A where its payoff \n",
    "(without accounting for the last payer)\n",
    "is lower than the maximum estate that the last player can claim\n",
    "\"\"\""
   ]
  },
  {
   "cell_type": "code",
   "execution_count": null,
   "metadata": {},
   "outputs": [],
   "source": [
    "diffs=0.5*(pos[indices[0:100]][:,1]+pos[indices[0:100]][:,0])-loss[indices[0:100]]"
   ]
  },
  {
   "cell_type": "code",
   "execution_count": null,
   "metadata": {},
   "outputs": [],
   "source": [
    "pos[indices[:10][diffs[:10]>0]][:,0]"
   ]
  },
  {
   "cell_type": "code",
   "execution_count": null,
   "metadata": {},
   "outputs": [],
   "source": [
    "#still, with N=4, it's all pretty neat!"
   ]
  },
  {
   "cell_type": "code",
   "execution_count": null,
   "metadata": {},
   "outputs": [],
   "source": []
  }
 ],
 "metadata": {
  "kernelspec": {
   "display_name": "Python 3",
   "language": "python",
   "name": "python3"
  },
  "language_info": {
   "codemirror_mode": {
    "name": "ipython",
    "version": 3
   },
   "file_extension": ".py",
   "mimetype": "text/x-python",
   "name": "python",
   "nbconvert_exporter": "python",
   "pygments_lexer": "ipython3",
   "version": "3.8.5"
  }
 },
 "nbformat": 4,
 "nbformat_minor": 4
}
